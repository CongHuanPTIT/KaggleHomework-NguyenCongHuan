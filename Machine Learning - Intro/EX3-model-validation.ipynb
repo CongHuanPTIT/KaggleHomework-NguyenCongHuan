{
 "cells": [
  {
   "cell_type": "markdown",
   "id": "1c359775",
   "metadata": {
    "papermill": {
     "duration": 0.006392,
     "end_time": "2023-07-22T15:04:29.499324",
     "exception": false,
     "start_time": "2023-07-22T15:04:29.492932",
     "status": "completed"
    },
    "tags": []
   },
   "source": [
    "**This notebook is an exercise in the [Introduction to Machine Learning](https://www.kaggle.com/learn/intro-to-machine-learning) course.  You can reference the tutorial at [this link](https://www.kaggle.com/dansbecker/model-validation).**\n",
    "\n",
    "---\n"
   ]
  },
  {
   "cell_type": "markdown",
   "id": "ea66d088",
   "metadata": {
    "papermill": {
     "duration": 0.005433,
     "end_time": "2023-07-22T15:04:29.510699",
     "exception": false,
     "start_time": "2023-07-22T15:04:29.505266",
     "status": "completed"
    },
    "tags": []
   },
   "source": [
    "## Recap\n",
    "You've built a model. In this exercise you will test how good your model is.\n",
    "\n",
    "Run the cell below to set up your coding environment where the previous exercise left off."
   ]
  },
  {
   "cell_type": "code",
   "execution_count": 1,
   "id": "e794fb0f",
   "metadata": {
    "execution": {
     "iopub.execute_input": "2023-07-22T15:04:29.524955Z",
     "iopub.status.busy": "2023-07-22T15:04:29.524017Z",
     "iopub.status.idle": "2023-07-22T15:04:31.243189Z",
     "shell.execute_reply": "2023-07-22T15:04:31.241915Z"
    },
    "papermill": {
     "duration": 1.729614,
     "end_time": "2023-07-22T15:04:31.246049",
     "exception": false,
     "start_time": "2023-07-22T15:04:29.516435",
     "status": "completed"
    },
    "tags": []
   },
   "outputs": [
    {
     "name": "stderr",
     "output_type": "stream",
     "text": [
      "/opt/conda/lib/python3.10/site-packages/scipy/__init__.py:146: UserWarning: A NumPy version >=1.16.5 and <1.23.0 is required for this version of SciPy (detected version 1.23.5\n",
      "  warnings.warn(f\"A NumPy version >={np_minversion} and <{np_maxversion}\"\n"
     ]
    },
    {
     "name": "stdout",
     "output_type": "stream",
     "text": [
      "First in-sample predictions: [208500. 181500. 223500. 140000. 250000.]\n",
      "Actual target values for those homes: [208500, 181500, 223500, 140000, 250000]\n",
      "Setup Complete\n"
     ]
    }
   ],
   "source": [
    "# Code you have previously used to load data\n",
    "import pandas as pd\n",
    "from sklearn.tree import DecisionTreeRegressor\n",
    "\n",
    "# Path of the file to read\n",
    "iowa_file_path = '../input/home-data-for-ml-course/train.csv'\n",
    "\n",
    "home_data = pd.read_csv(iowa_file_path)\n",
    "y = home_data.SalePrice\n",
    "feature_columns = ['LotArea', 'YearBuilt', '1stFlrSF', '2ndFlrSF', 'FullBath', 'BedroomAbvGr', 'TotRmsAbvGrd']\n",
    "X = home_data[feature_columns]\n",
    "\n",
    "# Specify Model\n",
    "iowa_model = DecisionTreeRegressor()\n",
    "# Fit Model\n",
    "iowa_model.fit(X, y)\n",
    "\n",
    "print(\"First in-sample predictions:\", iowa_model.predict(X.head()))\n",
    "print(\"Actual target values for those homes:\", y.head().tolist())\n",
    "\n",
    "# Set up code checking\n",
    "from learntools.core import binder\n",
    "binder.bind(globals())\n",
    "from learntools.machine_learning.ex4 import *\n",
    "print(\"Setup Complete\")"
   ]
  },
  {
   "cell_type": "markdown",
   "id": "ae9c4517",
   "metadata": {
    "papermill": {
     "duration": 0.005683,
     "end_time": "2023-07-22T15:04:31.258055",
     "exception": false,
     "start_time": "2023-07-22T15:04:31.252372",
     "status": "completed"
    },
    "tags": []
   },
   "source": [
    "# Exercises\n",
    "\n",
    "## Step 1: Split Your Data\n",
    "Use the `train_test_split` function to split up your data.\n",
    "\n",
    "Give it the argument `random_state=1` so the `check` functions know what to expect when verifying your code.\n",
    "\n",
    "Recall, your features are loaded in the DataFrame **X** and your target is loaded in **y**.\n"
   ]
  },
  {
   "cell_type": "code",
   "execution_count": 2,
   "id": "7fdf2d38",
   "metadata": {
    "execution": {
     "iopub.execute_input": "2023-07-22T15:04:31.271806Z",
     "iopub.status.busy": "2023-07-22T15:04:31.271400Z",
     "iopub.status.idle": "2023-07-22T15:04:31.285262Z",
     "shell.execute_reply": "2023-07-22T15:04:31.284216Z"
    },
    "papermill": {
     "duration": 0.02346,
     "end_time": "2023-07-22T15:04:31.287545",
     "exception": false,
     "start_time": "2023-07-22T15:04:31.264085",
     "status": "completed"
    },
    "tags": []
   },
   "outputs": [
    {
     "data": {
      "application/javascript": [
       "parent.postMessage({\"jupyterEvent\": \"custom.exercise_interaction\", \"data\": {\"outcomeType\": 1, \"valueTowardsCompletion\": 0.25, \"interactionType\": 1, \"questionType\": 2, \"questionId\": \"1_SplitData\", \"learnToolsVersion\": \"0.3.4\", \"failureMessage\": \"\", \"exceptionClass\": \"\", \"trace\": \"\"}}, \"*\")"
      ],
      "text/plain": [
       "<IPython.core.display.Javascript object>"
      ]
     },
     "metadata": {},
     "output_type": "display_data"
    },
    {
     "data": {
      "text/markdown": [
       "<span style=\"color:#33cc33\">Correct</span>"
      ],
      "text/plain": [
       "Correct"
      ]
     },
     "metadata": {},
     "output_type": "display_data"
    }
   ],
   "source": [
    "# Import the train_test_split function and uncomment\n",
    "from sklearn.model_selection import train_test_split\n",
    "\n",
    "# fill in and uncomment\n",
    "train_X, val_X, train_y, val_y = train_test_split(X, y, random_state=1)\n",
    "\n",
    "# Check your answer\n",
    "step_1.check()"
   ]
  },
  {
   "cell_type": "code",
   "execution_count": 3,
   "id": "2bf68945",
   "metadata": {
    "execution": {
     "iopub.execute_input": "2023-07-22T15:04:31.301992Z",
     "iopub.status.busy": "2023-07-22T15:04:31.301250Z",
     "iopub.status.idle": "2023-07-22T15:04:31.305360Z",
     "shell.execute_reply": "2023-07-22T15:04:31.304567Z"
    },
    "papermill": {
     "duration": 0.013695,
     "end_time": "2023-07-22T15:04:31.307388",
     "exception": false,
     "start_time": "2023-07-22T15:04:31.293693",
     "status": "completed"
    },
    "tags": []
   },
   "outputs": [],
   "source": [
    "# The lines below will show you a hint or the solution.\n",
    "# step_1.hint() \n",
    "# step_1.solution()\n"
   ]
  },
  {
   "cell_type": "markdown",
   "id": "3a7c9668",
   "metadata": {
    "papermill": {
     "duration": 0.005996,
     "end_time": "2023-07-22T15:04:31.321208",
     "exception": false,
     "start_time": "2023-07-22T15:04:31.315212",
     "status": "completed"
    },
    "tags": []
   },
   "source": [
    "## Step 2: Specify and Fit the Model\n",
    "\n",
    "Create a `DecisionTreeRegressor` model and fit it to the relevant data.\n",
    "Set `random_state` to 1 again when creating the model."
   ]
  },
  {
   "cell_type": "code",
   "execution_count": 4,
   "id": "809a70f1",
   "metadata": {
    "execution": {
     "iopub.execute_input": "2023-07-22T15:04:31.336265Z",
     "iopub.status.busy": "2023-07-22T15:04:31.335406Z",
     "iopub.status.idle": "2023-07-22T15:04:31.365153Z",
     "shell.execute_reply": "2023-07-22T15:04:31.364312Z"
    },
    "papermill": {
     "duration": 0.0398,
     "end_time": "2023-07-22T15:04:31.367236",
     "exception": false,
     "start_time": "2023-07-22T15:04:31.327436",
     "status": "completed"
    },
    "tags": []
   },
   "outputs": [
    {
     "name": "stdout",
     "output_type": "stream",
     "text": [
      "[186500. 184000. 130000.  92000. 164500. 220000. 335000. 144152. 215000.\n",
      " 262000.]\n",
      "[186500. 184000. 130000.  92000. 164500. 220000. 335000. 144152. 215000.\n",
      " 262000.]\n"
     ]
    },
    {
     "data": {
      "application/javascript": [
       "parent.postMessage({\"jupyterEvent\": \"custom.exercise_interaction\", \"data\": {\"outcomeType\": 1, \"valueTowardsCompletion\": 0.25, \"interactionType\": 1, \"questionType\": 2, \"questionId\": \"2_FitModelWithTrain\", \"learnToolsVersion\": \"0.3.4\", \"failureMessage\": \"\", \"exceptionClass\": \"\", \"trace\": \"\"}}, \"*\")"
      ],
      "text/plain": [
       "<IPython.core.display.Javascript object>"
      ]
     },
     "metadata": {},
     "output_type": "display_data"
    },
    {
     "data": {
      "text/markdown": [
       "<span style=\"color:#33cc33\">Correct</span>"
      ],
      "text/plain": [
       "Correct"
      ]
     },
     "metadata": {},
     "output_type": "display_data"
    }
   ],
   "source": [
    "# You imported DecisionTreeRegressor in your last exercise\n",
    "# and that code has been copied to the setup code above. So, no need to\n",
    "# import it again\n",
    "\n",
    "# Specify the model\n",
    "iowa_model = DecisionTreeRegressor(random_state=1)\n",
    "\n",
    "# Fit iowa_model with the training data.\n",
    "iowa_model.fit(train_X, train_y)\n",
    "\n",
    "# Check your answer\n",
    "step_2.check()"
   ]
  },
  {
   "cell_type": "code",
   "execution_count": 5,
   "id": "0bac338c",
   "metadata": {
    "execution": {
     "iopub.execute_input": "2023-07-22T15:04:31.382918Z",
     "iopub.status.busy": "2023-07-22T15:04:31.382473Z",
     "iopub.status.idle": "2023-07-22T15:04:31.386895Z",
     "shell.execute_reply": "2023-07-22T15:04:31.385801Z"
    },
    "papermill": {
     "duration": 0.015772,
     "end_time": "2023-07-22T15:04:31.389818",
     "exception": false,
     "start_time": "2023-07-22T15:04:31.374046",
     "status": "completed"
    },
    "tags": []
   },
   "outputs": [],
   "source": [
    "# step_2.hint()\n",
    "# step_2.solution()"
   ]
  },
  {
   "cell_type": "markdown",
   "id": "114716e8",
   "metadata": {
    "papermill": {
     "duration": 0.006868,
     "end_time": "2023-07-22T15:04:31.403877",
     "exception": false,
     "start_time": "2023-07-22T15:04:31.397009",
     "status": "completed"
    },
    "tags": []
   },
   "source": [
    "## Step 3: Make Predictions with Validation data\n"
   ]
  },
  {
   "cell_type": "code",
   "execution_count": 6,
   "id": "92d22499",
   "metadata": {
    "execution": {
     "iopub.execute_input": "2023-07-22T15:04:31.419944Z",
     "iopub.status.busy": "2023-07-22T15:04:31.419495Z",
     "iopub.status.idle": "2023-07-22T15:04:31.433155Z",
     "shell.execute_reply": "2023-07-22T15:04:31.431950Z"
    },
    "papermill": {
     "duration": 0.024575,
     "end_time": "2023-07-22T15:04:31.435612",
     "exception": false,
     "start_time": "2023-07-22T15:04:31.411037",
     "status": "completed"
    },
    "tags": []
   },
   "outputs": [
    {
     "data": {
      "application/javascript": [
       "parent.postMessage({\"jupyterEvent\": \"custom.exercise_interaction\", \"data\": {\"outcomeType\": 1, \"valueTowardsCompletion\": 0.25, \"interactionType\": 1, \"questionType\": 2, \"questionId\": \"3_ValPreds\", \"learnToolsVersion\": \"0.3.4\", \"failureMessage\": \"\", \"exceptionClass\": \"\", \"trace\": \"\"}}, \"*\")"
      ],
      "text/plain": [
       "<IPython.core.display.Javascript object>"
      ]
     },
     "metadata": {},
     "output_type": "display_data"
    },
    {
     "data": {
      "text/markdown": [
       "<span style=\"color:#33cc33\">Correct</span>"
      ],
      "text/plain": [
       "Correct"
      ]
     },
     "metadata": {},
     "output_type": "display_data"
    }
   ],
   "source": [
    "# Predict with all validation observations\n",
    "val_predictions = iowa_model.predict(val_X)\n",
    "\n",
    "# Check your answer\n",
    "step_3.check()"
   ]
  },
  {
   "cell_type": "code",
   "execution_count": 7,
   "id": "9f7b38bf",
   "metadata": {
    "execution": {
     "iopub.execute_input": "2023-07-22T15:04:31.452611Z",
     "iopub.status.busy": "2023-07-22T15:04:31.451787Z",
     "iopub.status.idle": "2023-07-22T15:04:31.456542Z",
     "shell.execute_reply": "2023-07-22T15:04:31.455716Z"
    },
    "papermill": {
     "duration": 0.015955,
     "end_time": "2023-07-22T15:04:31.458835",
     "exception": false,
     "start_time": "2023-07-22T15:04:31.442880",
     "status": "completed"
    },
    "tags": []
   },
   "outputs": [],
   "source": [
    "# step_3.hint()\n",
    "# step_3.solution()"
   ]
  },
  {
   "cell_type": "markdown",
   "id": "a598e940",
   "metadata": {
    "papermill": {
     "duration": 0.006937,
     "end_time": "2023-07-22T15:04:31.473075",
     "exception": false,
     "start_time": "2023-07-22T15:04:31.466138",
     "status": "completed"
    },
    "tags": []
   },
   "source": [
    "Inspect your predictions and actual values from validation data."
   ]
  },
  {
   "cell_type": "code",
   "execution_count": 8,
   "id": "34160df1",
   "metadata": {
    "execution": {
     "iopub.execute_input": "2023-07-22T15:04:31.490002Z",
     "iopub.status.busy": "2023-07-22T15:04:31.489148Z",
     "iopub.status.idle": "2023-07-22T15:04:31.507153Z",
     "shell.execute_reply": "2023-07-22T15:04:31.505951Z"
    },
    "papermill": {
     "duration": 0.029212,
     "end_time": "2023-07-22T15:04:31.509532",
     "exception": false,
     "start_time": "2023-07-22T15:04:31.480320",
     "status": "completed"
    },
    "tags": []
   },
   "outputs": [
    {
     "data": {
      "text/html": [
       "<div>\n",
       "<style scoped>\n",
       "    .dataframe tbody tr th:only-of-type {\n",
       "        vertical-align: middle;\n",
       "    }\n",
       "\n",
       "    .dataframe tbody tr th {\n",
       "        vertical-align: top;\n",
       "    }\n",
       "\n",
       "    .dataframe thead th {\n",
       "        text-align: right;\n",
       "    }\n",
       "</style>\n",
       "<table border=\"1\" class=\"dataframe\">\n",
       "  <thead>\n",
       "    <tr style=\"text-align: right;\">\n",
       "      <th></th>\n",
       "      <th>Predictions</th>\n",
       "      <th>Results</th>\n",
       "    </tr>\n",
       "  </thead>\n",
       "  <tbody>\n",
       "    <tr>\n",
       "      <th>258</th>\n",
       "      <td>186500</td>\n",
       "      <td>231500</td>\n",
       "    </tr>\n",
       "    <tr>\n",
       "      <th>267</th>\n",
       "      <td>184000</td>\n",
       "      <td>179500</td>\n",
       "    </tr>\n",
       "    <tr>\n",
       "      <th>288</th>\n",
       "      <td>130000</td>\n",
       "      <td>122000</td>\n",
       "    </tr>\n",
       "    <tr>\n",
       "      <th>649</th>\n",
       "      <td>92000</td>\n",
       "      <td>84500</td>\n",
       "    </tr>\n",
       "    <tr>\n",
       "      <th>1233</th>\n",
       "      <td>164500</td>\n",
       "      <td>142000</td>\n",
       "    </tr>\n",
       "    <tr>\n",
       "      <th>...</th>\n",
       "      <td>...</td>\n",
       "      <td>...</td>\n",
       "    </tr>\n",
       "    <tr>\n",
       "      <th>1017</th>\n",
       "      <td>133750</td>\n",
       "      <td>187500</td>\n",
       "    </tr>\n",
       "    <tr>\n",
       "      <th>534</th>\n",
       "      <td>188500</td>\n",
       "      <td>178000</td>\n",
       "    </tr>\n",
       "    <tr>\n",
       "      <th>1334</th>\n",
       "      <td>148500</td>\n",
       "      <td>125000</td>\n",
       "    </tr>\n",
       "    <tr>\n",
       "      <th>1369</th>\n",
       "      <td>284000</td>\n",
       "      <td>232000</td>\n",
       "    </tr>\n",
       "    <tr>\n",
       "      <th>628</th>\n",
       "      <td>201800</td>\n",
       "      <td>135000</td>\n",
       "    </tr>\n",
       "  </tbody>\n",
       "</table>\n",
       "<p>365 rows × 2 columns</p>\n",
       "</div>"
      ],
      "text/plain": [
       "      Predictions  Results\n",
       "258        186500   231500\n",
       "267        184000   179500\n",
       "288        130000   122000\n",
       "649         92000    84500\n",
       "1233       164500   142000\n",
       "...           ...      ...\n",
       "1017       133750   187500\n",
       "534        188500   178000\n",
       "1334       148500   125000\n",
       "1369       284000   232000\n",
       "628        201800   135000\n",
       "\n",
       "[365 rows x 2 columns]"
      ]
     },
     "execution_count": 8,
     "metadata": {},
     "output_type": "execute_result"
    }
   ],
   "source": [
    "# print the top few validation predictions\n",
    "# print(____)\n",
    "# print the top few actual prices from validation data\n",
    "# print(____)\n",
    "\n",
    "# Let's use the dataframe way in the last exercise to have a clear look.\n",
    "pd.DataFrame({'Predictions': val_predictions.astype(int), 'Results': val_y})"
   ]
  },
  {
   "cell_type": "markdown",
   "id": "38504671",
   "metadata": {
    "papermill": {
     "duration": 0.007269,
     "end_time": "2023-07-22T15:04:31.524650",
     "exception": false,
     "start_time": "2023-07-22T15:04:31.517381",
     "status": "completed"
    },
    "tags": []
   },
   "source": [
    "What do you notice that is different from what you saw with in-sample predictions (which are printed after the top code cell in this page).\n",
    "\n",
    "Do you remember why validation predictions differ from in-sample (or training) predictions? This is an important idea from the last lesson.\n",
    "\n",
    "## Step 4: Calculate the Mean Absolute Error in Validation Data\n"
   ]
  },
  {
   "cell_type": "code",
   "execution_count": 9,
   "id": "2dda9dcc",
   "metadata": {
    "execution": {
     "iopub.execute_input": "2023-07-22T15:04:31.541645Z",
     "iopub.status.busy": "2023-07-22T15:04:31.541261Z",
     "iopub.status.idle": "2023-07-22T15:04:31.552370Z",
     "shell.execute_reply": "2023-07-22T15:04:31.551226Z"
    },
    "papermill": {
     "duration": 0.022618,
     "end_time": "2023-07-22T15:04:31.554915",
     "exception": false,
     "start_time": "2023-07-22T15:04:31.532297",
     "status": "completed"
    },
    "tags": []
   },
   "outputs": [
    {
     "name": "stdout",
     "output_type": "stream",
     "text": [
      "29652.931506849316\n"
     ]
    },
    {
     "data": {
      "application/javascript": [
       "parent.postMessage({\"jupyterEvent\": \"custom.exercise_interaction\", \"data\": {\"outcomeType\": 1, \"valueTowardsCompletion\": 0.25, \"interactionType\": 1, \"questionType\": 1, \"questionId\": \"4_MAE\", \"learnToolsVersion\": \"0.3.4\", \"failureMessage\": \"\", \"exceptionClass\": \"\", \"trace\": \"\"}}, \"*\")"
      ],
      "text/plain": [
       "<IPython.core.display.Javascript object>"
      ]
     },
     "metadata": {},
     "output_type": "display_data"
    },
    {
     "data": {
      "text/markdown": [
       "<span style=\"color:#33cc33\">Correct</span>"
      ],
      "text/plain": [
       "Correct"
      ]
     },
     "metadata": {},
     "output_type": "display_data"
    }
   ],
   "source": [
    "from sklearn.metrics import mean_absolute_error\n",
    "val_mae = mean_absolute_error(val_y, val_predictions)\n",
    "\n",
    "# uncomment following line to see the validation_mae\n",
    "print(val_mae)\n",
    "\n",
    "# Check your answer\n",
    "step_4.check()"
   ]
  },
  {
   "cell_type": "code",
   "execution_count": 10,
   "id": "ca0ef4a1",
   "metadata": {
    "execution": {
     "iopub.execute_input": "2023-07-22T15:04:31.572865Z",
     "iopub.status.busy": "2023-07-22T15:04:31.571873Z",
     "iopub.status.idle": "2023-07-22T15:04:31.576658Z",
     "shell.execute_reply": "2023-07-22T15:04:31.575682Z"
    },
    "papermill": {
     "duration": 0.016529,
     "end_time": "2023-07-22T15:04:31.579155",
     "exception": false,
     "start_time": "2023-07-22T15:04:31.562626",
     "status": "completed"
    },
    "tags": []
   },
   "outputs": [],
   "source": [
    "# step_4.hint()\n",
    "# step_4.solution()"
   ]
  },
  {
   "cell_type": "markdown",
   "id": "2c37b29e",
   "metadata": {
    "papermill": {
     "duration": 0.007997,
     "end_time": "2023-07-22T15:04:31.595305",
     "exception": false,
     "start_time": "2023-07-22T15:04:31.587308",
     "status": "completed"
    },
    "tags": []
   },
   "source": [
    "Is that MAE good?  There isn't a general rule for what values are good that applies across applications. But you'll see how to use (and improve) this number in the next step.\n",
    "\n",
    "# Keep Going\n",
    "\n",
    "You are ready for **[Underfitting and Overfitting](https://www.kaggle.com/dansbecker/underfitting-and-overfitting).**\n"
   ]
  },
  {
   "cell_type": "markdown",
   "id": "ff3b6bce",
   "metadata": {
    "papermill": {
     "duration": 0.007797,
     "end_time": "2023-07-22T15:04:31.611198",
     "exception": false,
     "start_time": "2023-07-22T15:04:31.603401",
     "status": "completed"
    },
    "tags": []
   },
   "source": [
    "---\n",
    "\n",
    "\n",
    "\n",
    "\n",
    "*Have questions or comments? Visit the [course discussion forum](https://www.kaggle.com/learn/intro-to-machine-learning/discussion) to chat with other learners.*"
   ]
  }
 ],
 "metadata": {
  "kernelspec": {
   "display_name": "Python 3",
   "language": "python",
   "name": "python3"
  },
  "language_info": {
   "codemirror_mode": {
    "name": "ipython",
    "version": 3
   },
   "file_extension": ".py",
   "mimetype": "text/x-python",
   "name": "python",
   "nbconvert_exporter": "python",
   "pygments_lexer": "ipython3",
   "version": "3.10.12"
  },
  "papermill": {
   "default_parameters": {},
   "duration": 14.711209,
   "end_time": "2023-07-22T15:04:32.642301",
   "environment_variables": {},
   "exception": null,
   "input_path": "__notebook__.ipynb",
   "output_path": "__notebook__.ipynb",
   "parameters": {},
   "start_time": "2023-07-22T15:04:17.931092",
   "version": "2.4.0"
  }
 },
 "nbformat": 4,
 "nbformat_minor": 5
}
