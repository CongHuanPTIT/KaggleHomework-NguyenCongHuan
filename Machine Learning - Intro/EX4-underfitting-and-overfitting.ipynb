{
 "cells": [
  {
   "cell_type": "markdown",
   "id": "c383bb6c",
   "metadata": {
    "papermill": {
     "duration": 0.005492,
     "end_time": "2023-07-22T16:35:59.099657",
     "exception": false,
     "start_time": "2023-07-22T16:35:59.094165",
     "status": "completed"
    },
    "tags": []
   },
   "source": [
    "**This notebook is an exercise in the [Introduction to Machine Learning](https://www.kaggle.com/learn/intro-to-machine-learning) course.  You can reference the tutorial at [this link](https://www.kaggle.com/dansbecker/underfitting-and-overfitting).**\n",
    "\n",
    "---\n"
   ]
  },
  {
   "cell_type": "markdown",
   "id": "d3683001",
   "metadata": {
    "papermill": {
     "duration": 0.004476,
     "end_time": "2023-07-22T16:35:59.109175",
     "exception": false,
     "start_time": "2023-07-22T16:35:59.104699",
     "status": "completed"
    },
    "tags": []
   },
   "source": [
    "## Recap\n",
    "You've built your first model, and now it's time to optimize the size of the tree to make better predictions. Run this cell to set up your coding environment where the previous step left off."
   ]
  },
  {
   "cell_type": "code",
   "execution_count": 1,
   "id": "408ae4d0",
   "metadata": {
    "execution": {
     "iopub.execute_input": "2023-07-22T16:35:59.121022Z",
     "iopub.status.busy": "2023-07-22T16:35:59.120331Z",
     "iopub.status.idle": "2023-07-22T16:36:00.703003Z",
     "shell.execute_reply": "2023-07-22T16:36:00.701799Z"
    },
    "papermill": {
     "duration": 1.591717,
     "end_time": "2023-07-22T16:36:00.705559",
     "exception": false,
     "start_time": "2023-07-22T16:35:59.113842",
     "status": "completed"
    },
    "tags": []
   },
   "outputs": [
    {
     "name": "stderr",
     "output_type": "stream",
     "text": [
      "/opt/conda/lib/python3.10/site-packages/scipy/__init__.py:146: UserWarning: A NumPy version >=1.16.5 and <1.23.0 is required for this version of SciPy (detected version 1.23.5\n",
      "  warnings.warn(f\"A NumPy version >={np_minversion} and <{np_maxversion}\"\n"
     ]
    },
    {
     "name": "stdout",
     "output_type": "stream",
     "text": [
      "Validation MAE: 29,653\n",
      "\n",
      "Setup complete\n"
     ]
    }
   ],
   "source": [
    "# Code you have previously used to load data\n",
    "import pandas as pd\n",
    "from sklearn.metrics import mean_absolute_error\n",
    "from sklearn.model_selection import train_test_split\n",
    "from sklearn.tree import DecisionTreeRegressor\n",
    "\n",
    "\n",
    "# Path of the file to read\n",
    "iowa_file_path = '../input/home-data-for-ml-course/train.csv'\n",
    "\n",
    "home_data = pd.read_csv(iowa_file_path)\n",
    "# Create target object and call it y\n",
    "y = home_data.SalePrice\n",
    "# Create X\n",
    "features = ['LotArea', 'YearBuilt', '1stFlrSF', '2ndFlrSF', 'FullBath', 'BedroomAbvGr', 'TotRmsAbvGrd']\n",
    "X = home_data[features]\n",
    "\n",
    "# Split into validation and training data\n",
    "train_X, val_X, train_y, val_y = train_test_split(X, y, random_state=1)\n",
    "\n",
    "# Specify Model\n",
    "iowa_model = DecisionTreeRegressor(random_state=1)\n",
    "# Fit Model\n",
    "iowa_model.fit(train_X, train_y)\n",
    "\n",
    "# Make validation predictions and calculate mean absolute error\n",
    "val_predictions = iowa_model.predict(val_X)\n",
    "val_mae = mean_absolute_error(val_predictions, val_y)\n",
    "print(\"Validation MAE: {:,.0f}\".format(val_mae))\n",
    "\n",
    "# Set up code checking\n",
    "from learntools.core import binder\n",
    "binder.bind(globals())\n",
    "from learntools.machine_learning.ex5 import *\n",
    "print(\"\\nSetup complete\")"
   ]
  },
  {
   "cell_type": "markdown",
   "id": "9a177d52",
   "metadata": {
    "papermill": {
     "duration": 0.004764,
     "end_time": "2023-07-22T16:36:00.715430",
     "exception": false,
     "start_time": "2023-07-22T16:36:00.710666",
     "status": "completed"
    },
    "tags": []
   },
   "source": [
    "# Exercises\n",
    "You could write the function `get_mae` yourself. For now, we'll supply it. This is the same function you read about in the previous lesson. Just run the cell below."
   ]
  },
  {
   "cell_type": "code",
   "execution_count": 2,
   "id": "96c57a3a",
   "metadata": {
    "execution": {
     "iopub.execute_input": "2023-07-22T16:36:00.727825Z",
     "iopub.status.busy": "2023-07-22T16:36:00.726748Z",
     "iopub.status.idle": "2023-07-22T16:36:00.733151Z",
     "shell.execute_reply": "2023-07-22T16:36:00.732048Z"
    },
    "papermill": {
     "duration": 0.015265,
     "end_time": "2023-07-22T16:36:00.735621",
     "exception": false,
     "start_time": "2023-07-22T16:36:00.720356",
     "status": "completed"
    },
    "tags": []
   },
   "outputs": [],
   "source": [
    "def get_mae(max_leaf_nodes, train_X, val_X, train_y, val_y):\n",
    "    model = DecisionTreeRegressor(max_leaf_nodes=max_leaf_nodes, random_state=0)\n",
    "    model.fit(train_X, train_y)\n",
    "    preds_val = model.predict(val_X)\n",
    "    mae = mean_absolute_error(val_y, preds_val)\n",
    "    return(mae)"
   ]
  },
  {
   "cell_type": "markdown",
   "id": "a547e4ae",
   "metadata": {
    "papermill": {
     "duration": 0.004913,
     "end_time": "2023-07-22T16:36:00.745761",
     "exception": false,
     "start_time": "2023-07-22T16:36:00.740848",
     "status": "completed"
    },
    "tags": []
   },
   "source": [
    "## Step 1: Compare Different Tree Sizes\n",
    "Write a loop that tries the following values for *max_leaf_nodes* from a set of possible values.\n",
    "\n",
    "Call the *get_mae* function on each value of max_leaf_nodes. Store the output in some way that allows you to select the value of `max_leaf_nodes` that gives the most accurate model on your data."
   ]
  },
  {
   "cell_type": "code",
   "execution_count": 3,
   "id": "6de9c220",
   "metadata": {
    "execution": {
     "iopub.execute_input": "2023-07-22T16:36:00.757539Z",
     "iopub.status.busy": "2023-07-22T16:36:00.757119Z",
     "iopub.status.idle": "2023-07-22T16:36:00.814904Z",
     "shell.execute_reply": "2023-07-22T16:36:00.813517Z"
    },
    "papermill": {
     "duration": 0.066458,
     "end_time": "2023-07-22T16:36:00.817205",
     "exception": false,
     "start_time": "2023-07-22T16:36:00.750747",
     "status": "completed"
    },
    "tags": []
   },
   "outputs": [
    {
     "data": {
      "application/javascript": [
       "parent.postMessage({\"jupyterEvent\": \"custom.exercise_interaction\", \"data\": {\"outcomeType\": 1, \"valueTowardsCompletion\": 0.5, \"interactionType\": 1, \"questionType\": 1, \"questionId\": \"1_BestTreeSize\", \"learnToolsVersion\": \"0.3.4\", \"failureMessage\": \"\", \"exceptionClass\": \"\", \"trace\": \"\"}}, \"*\")"
      ],
      "text/plain": [
       "<IPython.core.display.Javascript object>"
      ]
     },
     "metadata": {},
     "output_type": "display_data"
    },
    {
     "data": {
      "text/markdown": [
       "<span style=\"color:#33cc33\">Correct</span>"
      ],
      "text/plain": [
       "Correct"
      ]
     },
     "metadata": {},
     "output_type": "display_data"
    },
    {
     "data": {
      "text/plain": [
       "100"
      ]
     },
     "execution_count": 3,
     "metadata": {},
     "output_type": "execute_result"
    }
   ],
   "source": [
    "mae_list = []\n",
    "candidate_max_leaf_nodes = [5, 25, 50, 100, 250, 500]\n",
    "# Write loop to find the ideal tree size from candidate_max_leaf_nodes\n",
    "for node in candidate_max_leaf_nodes:\n",
    "    each = []\n",
    "    each.append(node)\n",
    "    each.append(get_mae(node, train_X, val_X, train_y, val_y))\n",
    "    mae_list.append(each)\n",
    "    \n",
    "# Store the best value of max_leaf_nodes (it will be either 5, 25, 50, 100, 250 or 500)\n",
    "def get_value(x):\n",
    "    return x[1]\n",
    "\n",
    "mae_list.sort(key=get_value)\n",
    "best_tree_size = mae_list[0][0]\n",
    "\n",
    "# Check your answer\n",
    "step_1.check()\n",
    "best_tree_size"
   ]
  },
  {
   "cell_type": "code",
   "execution_count": 4,
   "id": "2ea577cc",
   "metadata": {
    "execution": {
     "iopub.execute_input": "2023-07-22T16:36:00.831728Z",
     "iopub.status.busy": "2023-07-22T16:36:00.831325Z",
     "iopub.status.idle": "2023-07-22T16:36:00.835744Z",
     "shell.execute_reply": "2023-07-22T16:36:00.834696Z"
    },
    "papermill": {
     "duration": 0.015025,
     "end_time": "2023-07-22T16:36:00.837942",
     "exception": false,
     "start_time": "2023-07-22T16:36:00.822917",
     "status": "completed"
    },
    "tags": []
   },
   "outputs": [],
   "source": [
    "# The lines below will show you a hint or the solution.\n",
    "# step_1.hint() \n",
    "# step_1.solution()"
   ]
  },
  {
   "cell_type": "markdown",
   "id": "0b0228b5",
   "metadata": {
    "papermill": {
     "duration": 0.005224,
     "end_time": "2023-07-22T16:36:00.848689",
     "exception": false,
     "start_time": "2023-07-22T16:36:00.843465",
     "status": "completed"
    },
    "tags": []
   },
   "source": [
    "## Step 2: Fit Model Using All Data\n",
    "You know the best tree size. If you were going to deploy this model in practice, you would make it even more accurate by using all of the data and keeping that tree size.  That is, you don't need to hold out the validation data now that you've made all your modeling decisions."
   ]
  },
  {
   "cell_type": "code",
   "execution_count": 5,
   "id": "46839ef2",
   "metadata": {
    "execution": {
     "iopub.execute_input": "2023-07-22T16:36:00.861625Z",
     "iopub.status.busy": "2023-07-22T16:36:00.861202Z",
     "iopub.status.idle": "2023-07-22T16:36:00.879940Z",
     "shell.execute_reply": "2023-07-22T16:36:00.878563Z"
    },
    "papermill": {
     "duration": 0.028091,
     "end_time": "2023-07-22T16:36:00.882279",
     "exception": false,
     "start_time": "2023-07-22T16:36:00.854188",
     "status": "completed"
    },
    "tags": []
   },
   "outputs": [
    {
     "data": {
      "application/javascript": [
       "parent.postMessage({\"jupyterEvent\": \"custom.exercise_interaction\", \"data\": {\"outcomeType\": 1, \"valueTowardsCompletion\": 0.5, \"interactionType\": 1, \"questionType\": 2, \"questionId\": \"2_FitModelWithAllData\", \"learnToolsVersion\": \"0.3.4\", \"failureMessage\": \"\", \"exceptionClass\": \"\", \"trace\": \"\"}}, \"*\")"
      ],
      "text/plain": [
       "<IPython.core.display.Javascript object>"
      ]
     },
     "metadata": {},
     "output_type": "display_data"
    },
    {
     "data": {
      "text/markdown": [
       "<span style=\"color:#33cc33\">Correct</span>"
      ],
      "text/plain": [
       "Correct"
      ]
     },
     "metadata": {},
     "output_type": "display_data"
    }
   ],
   "source": [
    "# Fill in argument to make optimal size and uncomment\n",
    "final_model = DecisionTreeRegressor(max_leaf_nodes=best_tree_size, random_state=60)\n",
    "\n",
    "# fit the final model and uncomment the next two lines\n",
    "final_model.fit(X, y)\n",
    "\n",
    "# Check your answer\n",
    "step_2.check()"
   ]
  },
  {
   "cell_type": "code",
   "execution_count": 6,
   "id": "e8f91321",
   "metadata": {
    "execution": {
     "iopub.execute_input": "2023-07-22T16:36:00.896677Z",
     "iopub.status.busy": "2023-07-22T16:36:00.896230Z",
     "iopub.status.idle": "2023-07-22T16:36:00.911556Z",
     "shell.execute_reply": "2023-07-22T16:36:00.910427Z"
    },
    "papermill": {
     "duration": 0.025663,
     "end_time": "2023-07-22T16:36:00.913949",
     "exception": false,
     "start_time": "2023-07-22T16:36:00.888286",
     "status": "completed"
    },
    "tags": []
   },
   "outputs": [
    {
     "name": "stdout",
     "output_type": "stream",
     "text": [
      "        Predictions  Actual\n",
      "258   182392.319444  231500\n",
      "267   163142.500000  179500\n",
      "288   125362.573333  122000\n",
      "649    70167.583333   84500\n",
      "1233  146415.007519  142000\n",
      "...             ...     ...\n",
      "1017  146415.007519  187500\n",
      "534   182392.319444  178000\n",
      "1334  121022.473684  125000\n",
      "1369  259866.666667  232000\n",
      "628   163142.500000  135000\n",
      "\n",
      "[365 rows x 2 columns]\n"
     ]
    }
   ],
   "source": [
    "predictions = final_model.predict(val_X)\n",
    "print(pd.DataFrame({'Predictions': predictions, 'Actual': val_y}))"
   ]
  },
  {
   "cell_type": "code",
   "execution_count": 7,
   "id": "10ee8c81",
   "metadata": {
    "execution": {
     "iopub.execute_input": "2023-07-22T16:36:00.928220Z",
     "iopub.status.busy": "2023-07-22T16:36:00.927779Z",
     "iopub.status.idle": "2023-07-22T16:36:00.934238Z",
     "shell.execute_reply": "2023-07-22T16:36:00.932959Z"
    },
    "papermill": {
     "duration": 0.016609,
     "end_time": "2023-07-22T16:36:00.936697",
     "exception": false,
     "start_time": "2023-07-22T16:36:00.920088",
     "status": "completed"
    },
    "tags": []
   },
   "outputs": [
    {
     "name": "stdout",
     "output_type": "stream",
     "text": [
      "16815.938748057826\n"
     ]
    }
   ],
   "source": [
    "# After all the above steps, MAE result is lower => good\n",
    "mae_val = mean_absolute_error(val_y, predictions)\n",
    "print(mae_val)"
   ]
  },
  {
   "cell_type": "code",
   "execution_count": 8,
   "id": "241ffa11",
   "metadata": {
    "execution": {
     "iopub.execute_input": "2023-07-22T16:36:00.950902Z",
     "iopub.status.busy": "2023-07-22T16:36:00.950475Z",
     "iopub.status.idle": "2023-07-22T16:36:00.955032Z",
     "shell.execute_reply": "2023-07-22T16:36:00.953899Z"
    },
    "papermill": {
     "duration": 0.014219,
     "end_time": "2023-07-22T16:36:00.957240",
     "exception": false,
     "start_time": "2023-07-22T16:36:00.943021",
     "status": "completed"
    },
    "tags": []
   },
   "outputs": [],
   "source": [
    "# step_2.hint()\n",
    "# step_2.solution()"
   ]
  },
  {
   "cell_type": "markdown",
   "id": "51d5d820",
   "metadata": {
    "papermill": {
     "duration": 0.005807,
     "end_time": "2023-07-22T16:36:00.969294",
     "exception": false,
     "start_time": "2023-07-22T16:36:00.963487",
     "status": "completed"
    },
    "tags": []
   },
   "source": [
    "You've tuned this model and improved your results. But we are still using Decision Tree models, which are not very sophisticated by modern machine learning standards. In the next step you will learn to use Random Forests to improve your models even more.\n",
    "\n",
    "# Keep Going\n",
    "\n",
    "You are ready for **[Random Forests](https://www.kaggle.com/dansbecker/random-forests).**\n"
   ]
  },
  {
   "cell_type": "markdown",
   "id": "b4679763",
   "metadata": {
    "papermill": {
     "duration": 0.005775,
     "end_time": "2023-07-22T16:36:00.981175",
     "exception": false,
     "start_time": "2023-07-22T16:36:00.975400",
     "status": "completed"
    },
    "tags": []
   },
   "source": [
    "---\n",
    "\n",
    "\n",
    "\n",
    "\n",
    "*Have questions or comments? Visit the [course discussion forum](https://www.kaggle.com/learn/intro-to-machine-learning/discussion) to chat with other learners.*"
   ]
  }
 ],
 "metadata": {
  "kernelspec": {
   "display_name": "Python 3",
   "language": "python",
   "name": "python3"
  },
  "language_info": {
   "codemirror_mode": {
    "name": "ipython",
    "version": 3
   },
   "file_extension": ".py",
   "mimetype": "text/x-python",
   "name": "python",
   "nbconvert_exporter": "python",
   "pygments_lexer": "ipython3",
   "version": "3.10.12"
  },
  "papermill": {
   "default_parameters": {},
   "duration": 13.652106,
   "end_time": "2023-07-22T16:36:01.908052",
   "environment_variables": {},
   "exception": null,
   "input_path": "__notebook__.ipynb",
   "output_path": "__notebook__.ipynb",
   "parameters": {},
   "start_time": "2023-07-22T16:35:48.255946",
   "version": "2.4.0"
  }
 },
 "nbformat": 4,
 "nbformat_minor": 5
}
